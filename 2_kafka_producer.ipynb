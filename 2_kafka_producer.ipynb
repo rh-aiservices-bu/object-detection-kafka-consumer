{
 "cells": [
  {
   "cell_type": "markdown",
   "metadata": {},
   "source": [
    "# Kafka Producer Example - Sending JSON Messages\n",
    "\n",
    "For an introduction to [Kafka](https://kafka.apache.org/), you may want to read some of the main [concepts](https://kafka.apache.org/documentation/#intro_concepts_and_terms).  An **event** records the fact that \"something happened\". An event has a key, value, timestamp, and optional metadata headers. **Producers** are those client applications that publish (write) events to Kafka, and **consumers** are those that subscribe to (read and process) these events.\n",
    "\n",
    "This is an example of how to write a very simple Kafka [producer](https://kafka-python.readthedocs.io/en/master/apidoc/KafkaProducer.html) using the kafka-python library. This example connects to a Kafka broker configured with the `SASL_PLAIN` security protocol. It sends simple JSON formatted strings on a kafka **topic**.\n",
    "\n",
    "You can also create and run consumers in a separate notebook such as [2_kafka_consumer_print.ipynb](./2_kafka_consumer_print.ipynb) to retrieve these events.\n",
    "\n",
    "For further reading, visit the [documentation](https://kafka.apache.org/documentation/) for Kafka and for [kafka-python](https://kafka-python.readthedocs.io/)\n"
   ]
  },
  {
   "cell_type": "markdown",
   "metadata": {},
   "source": [
    "## Dependencies\n",
    "\n",
    "- [kafka-python](https://pypi.org/project/kafka-python/) Python client for the Apache Kafka distributed stream processing system. kafka-python is designed to function much like the official java client, with a sprinkling of pythonic interfaces (e.g., consumer iterators).\n"
   ]
  },
  {
   "cell_type": "code",
   "execution_count": null,
   "metadata": {},
   "outputs": [],
   "source": [
    "!pip install -r requirements.txt"
   ]
  },
  {
   "cell_type": "markdown",
   "metadata": {},
   "source": [
    "## Connection Information\n",
    "\n",
    "Generally, much of your connection information (servers, username,  password) will be injected as environment variables.  This prevents a user from uploading private information to source control.\n",
    "\n",
    "#### Expected Environment Variables\n",
    "- `KAFKA_BOOTSTRAP_SERVER` location of the Kafka Bootstrap Server.  e.g. 'abc.xyz.kafka.rhcloud.com:443'\n",
    "- `KAFKA_USERNAME` SASL username or client ID e.g. 'srvc-acct-1234-5678-abcd-efgj-12345678abcd'\n",
    "- `KAFKA_PASSWORD` SASL password or client secret. e.g. 'abcd1234-5678-abcd-efgj-12345678abcd'\n"
   ]
  },
  {
   "cell_type": "code",
   "execution_count": null,
   "metadata": {},
   "outputs": [],
   "source": [
    "import os\n",
    "\n",
    "# location of the Kafka Bootstrap Server loaded from the environment variable.\n",
    "# e.g. 'my-kafka-bootstrap.namespace.svc.cluster.local:9092'\n",
    "KAFKA_BOOTSTRAP_SERVER = os.environ.get('KAFKA_BOOTSTRAP_SERVER')\n",
    "\n",
    "# SASL settings.  Defaults to SASL_SSL/PLAIN.\n",
    "# No auth would be PLAINTEXT/''\n",
    "KAFKA_SECURITY_PROTOCOL = os.environ.get('KAFKA_SECURITY_PROTOCOL', 'SASL_SSL')\n",
    "KAFKA_SASL_MECHANISM = os.environ.get('KAFKA_SASL_MECHANISM', 'PLAIN')\n",
    "\n",
    "# SASL username or client ID loaded from the environment variable\n",
    "KAFKA_USERNAME = os.environ.get('KAFKA_USERNAME')\n",
    "\n",
    "# SASL password or client secret loaded from the environment variable\n",
    "KAFKA_PASSWORD = os.environ.get('KAFKA_PASSWORD')\n",
    "\n",
    "# Name of the topic for the producer to send messages.\n",
    "# Consumers will listen to this topic for events.\n",
    "KAFKA_TOPIC = os.environ.get('KAFKA_TOPIC') or 'notebook-test'\n",
    "\n",
    "# Uncomment for debug purposes,\n",
    "# but don't save the output anywhere\n",
    "# print(f'KAFKA_BOOTSTRAP_SERVER=\"{KAFKA_BOOTSTRAP_SERVER}\"')\n",
    "# print(f'KAFKA_SECURITY_PROTOCOL=\"{KAFKA_SECURITY_PROTOCOL}\"')\n",
    "# print(f'KAFKA_SASL_MECHANISM=\"{KAFKA_SASL_MECHANISM}\"')\n",
    "# print(f'KAFKA_USERNAME=\"{KAFKA_USERNAME}\"')\n",
    "# print(f'KAFKA_PASSWORD=\"{KAFKA_PASSWORD}\"')\n",
    "# print(f'KAFKA_TOPIC=\"{KAFKA_TOPIC}\"')"
   ]
  },
  {
   "cell_type": "markdown",
   "metadata": {},
   "source": [
    "## Creating the Producer\n",
    "\n",
    "This function will create a producer that connects to the Kafka server and send messages to server set by variable `KAFKA_BOOTSTRAP_SERVER` on the topic set by variable `KAFKA_TOPIC`.  While this is sending messages, a consumer can read and process the events."
   ]
  },
  {
   "cell_type": "code",
   "execution_count": null,
   "metadata": {},
   "outputs": [],
   "source": [
    "import json\n",
    "import time\n",
    "\n",
    "from kafka import KafkaProducer\n",
    "\n",
    "\n",
    "def produce_messages(start=1, end=100, delay=1):\n",
    "    \"\"\"Sends a number of messages in JSON format '{\"txt\": \"hello 1\"}'\n",
    "\n",
    "    Keyword arguments:\n",
    "    start -- start number (default 0)\n",
    "    end -- last number to send (default 100)\n",
    "    delay -- number of seconds between messages (default 1)\n",
    "    \"\"\"\n",
    "\n",
    "    # create the producer\n",
    "    producer = KafkaProducer(bootstrap_servers=[KAFKA_BOOTSTRAP_SERVER],\n",
    "                             security_protocol=KAFKA_SECURITY_PROTOCOL,\n",
    "                             sasl_mechanism=KAFKA_SASL_MECHANISM,\n",
    "                             sasl_plain_username=KAFKA_USERNAME,\n",
    "                             sasl_plain_password=KAFKA_PASSWORD,\n",
    "                             api_version_auto_timeout_ms=30000,\n",
    "                             max_block_ms=900000,\n",
    "                             request_timeout_ms=450000,\n",
    "                             acks='all')\n",
    "\n",
    "    # send messages\n",
    "    for x in range(start, end+1):\n",
    "        time.sleep(delay)\n",
    "        jsonpayload = json.dumps({'txt': f'hello {x}'})\n",
    "        print(f'sending {jsonpayload}')\n",
    "        producer.send(KAFKA_TOPIC, jsonpayload.encode('utf-8'))\n",
    "\n",
    "    producer.flush()  # Important, especially if message size is small"
   ]
  },
  {
   "cell_type": "markdown",
   "metadata": {},
   "source": [
    "## Send Messages\n",
    "\n",
    "Starts the message loop.  After sending the number of messages, disconnects.\n"
   ]
  },
  {
   "cell_type": "code",
   "execution_count": null,
   "metadata": {},
   "outputs": [],
   "source": [
    "# send 20 messages with a 2 second delay\n",
    "produce_messages(1, 20, 2)"
   ]
  },
  {
   "cell_type": "code",
   "execution_count": null,
   "metadata": {},
   "outputs": [],
   "source": []
  }
 ],
 "metadata": {
  "kernelspec": {
   "display_name": "Python 3 (ipykernel)",
   "language": "python",
   "name": "python3"
  },
  "language_info": {
   "codemirror_mode": {
    "name": "ipython",
    "version": 3
   },
   "file_extension": ".py",
   "mimetype": "text/x-python",
   "name": "python",
   "nbconvert_exporter": "python",
   "pygments_lexer": "ipython3",
   "version": "3.8.8"
  }
 },
 "nbformat": 4,
 "nbformat_minor": 4
}
