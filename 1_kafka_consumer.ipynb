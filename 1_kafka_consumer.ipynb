{
 "cells": [
  {
   "cell_type": "markdown",
   "metadata": {},
   "source": [
    "# Kafka Consumer Example - Printing Messages\n",
    "\n",
    "For an introduction to [Kafka](https://kafka.apache.org/), you may want to read some of the main [concepts](https://kafka.apache.org/documentation/#intro_concepts_and_terms).  An **event** records the fact that \"something happened\". An event has a key, value, timestamp, and optional metadata headers. **Producers** are those client applications that publish (write) events to Kafka, and **consumers** are those that subscribe to (read and process) these events.\n",
    "\n",
    "This is an example of how to write a very simple Kafka [consumer](https://kafka-python.readthedocs.io/en/master/apidoc/KafkaConsumer.html) using the kafka-python library.  This example connects to a Kafka broker configured with the `SASL_PLAIN` security protocol. It receives simple JSON formatted strings on a kafka **topic** and prints them out to the console.  This is a single consumer, but could be part of a **consumer group**. A consumer group is a set of consumers which cooperate to consume data from some topics.\n",
    "\n",
    "For a sample producer, refer to the notebook [1_kafka_producer.ipynb](./1_kafka_producer.ipynb) to send some sample events.\n",
    "\n",
    "For further reading, visit the [documentation](https://kafka.apache.org/documentation/) for Kafka and for [kafka-python](https://kafka-python.readthedocs.io/)\n"
   ]
  },
  {
   "cell_type": "markdown",
   "metadata": {},
   "source": [
    "## Dependencies\n",
    "\n",
    "- [kafka-python](https://pypi.org/project/kafka-python/) Python client for the Apache Kafka distributed stream processing system. kafka-python is designed to function much like the official java client, with a sprinkling of pythonic interfaces (e.g., consumer iterators).\n"
   ]
  },
  {
   "cell_type": "code",
   "execution_count": null,
   "metadata": {},
   "outputs": [],
   "source": [
    "!pip install -r requirements.txt"
   ]
  },
  {
   "cell_type": "markdown",
   "metadata": {},
   "source": [
    "## Connection Information\n",
    "\n",
    "Generally, much of your connection information (servers, username,  password) will be injected as environment variables.  This prevents a user from uploading private information to source control.\n",
    "\n",
    "#### Expected Environment Variables\n",
    "- `KAFKA_BOOTSTRAP_SERVER` location of the Kafka Bootstrap Server.  e.g. 'abc.xyz.kafka.rhcloud.com:443'\n",
    "- `KAFKA_USERNAME` SASL username or client ID e.g. 'srvc-acct-1234-5678-abcd-efgj-12345678abcd'\n",
    "- `KAFKA_PASSWORD` SASL password or client secret. e.g. 'abcd1234-5678-abcd-efgj-12345678abcd'"
   ]
  },
  {
   "cell_type": "code",
   "execution_count": null,
   "metadata": {},
   "outputs": [],
   "source": [
    "import os\n",
    "\n",
    "# location of the Kafka Bootstrap Server loaded from the environment variable.\n",
    "# e.g. 'abc.xyz.kafka.rhcloud.com:443'\n",
    "KAFKA_BOOTSTRAP_SERVER = os.environ.get('KAFKA_BOOTSTRAP_SERVER')\n",
    "\n",
    "# SASL settings.  Defaults to SASL_SSL/PLAIN.\n",
    "# No auth would be PLAINTEXT/''\n",
    "KAFKA_SECURITY_PROTOCOL = os.environ.get('KAFKA_SECURITY_PROTOCOL', 'SASL_SSL')\n",
    "KAFKA_SASL_MECHANISM = os.environ.get('KAFKA_SASL_MECHANISM', 'PLAIN')\n",
    "\n",
    "# SASL username or client ID,  e.g. 'srvc-acct-1234-5678-abcd-efgj-12345678abcd'\n",
    "KAFKA_USERNAME = os.environ.get('KAFKA_USERNAME')\n",
    "\n",
    "# SASL password or client secret, e.g. 'abcd1234-5678-abcd-efgj-12345678abcd'\n",
    "KAFKA_PASSWORD = os.environ.get('KAFKA_PASSWORD')\n",
    "\n",
    "# Name of the topic for the producer to send messages.\n",
    "# Consumers will listen to this topic for events.\n",
    "KAFKA_TOPIC = os.environ.get('KAFKA_TOPIC') or 'notebook-test'\n",
    "\n",
    "# Kafka consumer group to which this consumer belongs\n",
    "KAFKA_CONSUMER_GROUP = 'notebook-consumer'\n",
    "\n",
    "\n",
    "# Uncomment for debug purposes,\n",
    "# but don't save the output anywhere\n",
    "# print(f'KAFKA_BOOTSTRAP_SERVER=\"{KAFKA_BOOTSTRAP_SERVER}\"')\n",
    "# print(f'KAFKA_SECURITY_PROTOCOL=\"{KAFKA_SECURITY_PROTOCOL}\"')\n",
    "# print(f'KAFKA_SASL_MECHANISM=\"{KAFKA_SASL_MECHANISM}\"')\n",
    "# print(f'KAFKA_USERNAME=\"{KAFKA_USERNAME}\"')\n",
    "# print(f'KAFKA_PASSWORD=\"{KAFKA_PASSWORD}\"')\n",
    "# print(f'KAFKA_TOPIC=\"{KAFKA_TOPIC}\"')\n",
    "# print(f'KAFKA_CONSUMER_GROUP=\"{KAFKA_CONSUMER_GROUP}\"')"
   ]
  },
  {
   "cell_type": "markdown",
   "metadata": {},
   "source": [
    "## Creating the Consumer\n",
    "\n",
    "This function will create a consumer that connects to the Kafka server set by variable `KAFKA_BOOTSTRAP_SERVER` and listen to the topic set by variable `KAFKA_TOPIC`.  The consumer receive and print out messages.  The consumer will run until the kernel is stopped."
   ]
  },
  {
   "cell_type": "code",
   "execution_count": null,
   "metadata": {},
   "outputs": [],
   "source": [
    "from kafka import KafkaConsumer\n",
    "\n",
    "\n",
    "def create_consumer_print():\n",
    "    consumer = KafkaConsumer(KAFKA_TOPIC,\n",
    "                             group_id=KAFKA_CONSUMER_GROUP,\n",
    "                             bootstrap_servers=[KAFKA_BOOTSTRAP_SERVER],\n",
    "                             security_protocol=KAFKA_SECURITY_PROTOCOL,\n",
    "                             sasl_mechanism=KAFKA_SASL_MECHANISM,\n",
    "                             sasl_plain_username=KAFKA_USERNAME,\n",
    "                             sasl_plain_password=KAFKA_PASSWORD,\n",
    "                             api_version_auto_timeout_ms=30000,\n",
    "                             request_timeout_ms=450000)\n",
    "    print(f'Subscribed to \"{KAFKA_BOOTSTRAP_SERVER}\" consuming topic \"{KAFKA_TOPIC}\"...')\n",
    "\n",
    "    try:\n",
    "        for record in consumer:\n",
    "            msg = record.value.decode('utf-8')\n",
    "            topic = record.topic\n",
    "            print(('Received the following message on the '\n",
    "                   f'topic \"{topic}\": {msg}'))\n",
    "\n",
    "    finally:\n",
    "        print(\"Closing consumer...\")\n",
    "        consumer.close()\n",
    "    print(\"Kafka consumer stopped.\")"
   ]
  },
  {
   "cell_type": "markdown",
   "metadata": {},
   "source": [
    "## Start Listening\n",
    "\n",
    "Starts the consumer.  Listens to events and prints out the values to the console.  **Stop the kernel to quit**"
   ]
  },
  {
   "cell_type": "code",
   "execution_count": null,
   "metadata": {},
   "outputs": [],
   "source": [
    "try:\n",
    "    create_consumer_print()\n",
    "except KeyboardInterrupt:\n",
    "    print('Stopped')"
   ]
  },
  {
   "cell_type": "code",
   "execution_count": null,
   "metadata": {},
   "outputs": [],
   "source": []
  }
 ],
 "metadata": {
  "kernelspec": {
   "display_name": "Python 3 (ipykernel)",
   "language": "python",
   "name": "python3"
  },
  "language_info": {
   "codemirror_mode": {
    "name": "ipython",
    "version": 3
   },
   "file_extension": ".py",
   "mimetype": "text/x-python",
   "name": "python",
   "nbconvert_exporter": "python",
   "pygments_lexer": "ipython3",
   "version": "3.8.8"
  }
 },
 "nbformat": 4,
 "nbformat_minor": 4
}
